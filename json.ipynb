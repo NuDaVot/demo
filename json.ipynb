{
 "cells": [
  {
   "cell_type": "code",
   "execution_count": 31,
   "id": "4b5dc5fa",
   "metadata": {},
   "outputs": [],
   "source": [
    "import json\n",
    "import codecs \n",
    "import pandas as pd\n",
    "import glob\n",
    "import numpy as np"
   ]
  },
  {
   "cell_type": "code",
   "execution_count": 6,
   "id": "9e7fa985",
   "metadata": {},
   "outputs": [],
   "source": [
    "all_file = glob.glob(\"*\")"
   ]
  },
  {
   "cell_type": "code",
   "execution_count": 7,
   "id": "8b1397b4",
   "metadata": {},
   "outputs": [
    {
     "data": {
      "text/plain": [
       "['2947918',\n",
       " 'Biblioteki.txt',\n",
       " 'json.ipynb',\n",
       " 'lib.ipynb',\n",
       " 'parsing companies.ipynb',\n",
       " 'repeat.ipynb',\n",
       " 'Кулиев',\n",
       " 'Кулиев.ipynb',\n",
       " 'Кулиев2']"
      ]
     },
     "execution_count": 7,
     "metadata": {},
     "output_type": "execute_result"
    }
   ],
   "source": [
    "all_file"
   ]
  },
  {
   "cell_type": "code",
   "execution_count": 46,
   "id": "099419fe",
   "metadata": {
    "scrolled": false
   },
   "outputs": [
    {
     "data": {
      "text/html": [
       "<div>\n",
       "<style scoped>\n",
       "    .dataframe tbody tr th:only-of-type {\n",
       "        vertical-align: middle;\n",
       "    }\n",
       "\n",
       "    .dataframe tbody tr th {\n",
       "        vertical-align: top;\n",
       "    }\n",
       "\n",
       "    .dataframe thead th {\n",
       "        text-align: right;\n",
       "    }\n",
       "</style>\n",
       "<table border=\"1\" class=\"dataframe\">\n",
       "  <thead>\n",
       "    <tr style=\"text-align: right;\">\n",
       "      <th></th>\n",
       "      <th>district_name</th>\n",
       "      <th>dt</th>\n",
       "      <th>status_name</th>\n",
       "      <th>title</th>\n",
       "      <th>body</th>\n",
       "    </tr>\n",
       "  </thead>\n",
       "  <tbody>\n",
       "    <tr>\n",
       "      <th>0</th>\n",
       "      <td>Колпинский</td>\n",
       "      <td>2020-11-05T15:10:55.088718</td>\n",
       "      <td>Завершено: Пользователь удовлетворен решением ...</td>\n",
       "      <td>Изменение статуса сообщения</td>\n",
       "      <td>NaN</td>\n",
       "    </tr>\n",
       "    <tr>\n",
       "      <th>1</th>\n",
       "      <td>Колпинский</td>\n",
       "      <td>2020-11-05T14:52:21.155422</td>\n",
       "      <td>Получен ответ</td>\n",
       "      <td>Изменение статуса сообщения</td>\n",
       "      <td>NaN</td>\n",
       "    </tr>\n",
       "    <tr>\n",
       "      <th>2</th>\n",
       "      <td>Колпинский</td>\n",
       "      <td>2020-11-05T09:57:37.568325</td>\n",
       "      <td>Принят</td>\n",
       "      <td>Ответ</td>\n",
       "      <td>Уважаемый пользователь!\\r\\n\\r\\nРассмотрев Ваше...</td>\n",
       "    </tr>\n",
       "    <tr>\n",
       "      <th>3</th>\n",
       "      <td>Колпинский</td>\n",
       "      <td>2020-10-19T12:19:32.697120</td>\n",
       "      <td>Рассмотрение</td>\n",
       "      <td>Изменение статуса сообщения</td>\n",
       "      <td>NaN</td>\n",
       "    </tr>\n",
       "    <tr>\n",
       "      <th>4</th>\n",
       "      <td>Колпинский</td>\n",
       "      <td>2020-10-18T14:54:17.177694</td>\n",
       "      <td>Модерация</td>\n",
       "      <td>Изменение статуса сообщения</td>\n",
       "      <td>NaN</td>\n",
       "    </tr>\n",
       "    <tr>\n",
       "      <th>5</th>\n",
       "      <td>Колпинский</td>\n",
       "      <td>2020-10-18T14:54:17.018525</td>\n",
       "      <td>Получен ответ</td>\n",
       "      <td>Сообщение пользователя</td>\n",
       "      <td>Маленькмй лифт изрисован внутри.</td>\n",
       "    </tr>\n",
       "  </tbody>\n",
       "</table>\n",
       "</div>"
      ],
      "text/plain": [
       "  district_name                          dt  \\\n",
       "0    Колпинский  2020-11-05T15:10:55.088718   \n",
       "1    Колпинский  2020-11-05T14:52:21.155422   \n",
       "2    Колпинский  2020-11-05T09:57:37.568325   \n",
       "3    Колпинский  2020-10-19T12:19:32.697120   \n",
       "4    Колпинский  2020-10-18T14:54:17.177694   \n",
       "5    Колпинский  2020-10-18T14:54:17.018525   \n",
       "\n",
       "                                         status_name  \\\n",
       "0  Завершено: Пользователь удовлетворен решением ...   \n",
       "1                                      Получен ответ   \n",
       "2                                             Принят   \n",
       "3                                       Рассмотрение   \n",
       "4                                          Модерация   \n",
       "5                                      Получен ответ   \n",
       "\n",
       "                         title  \\\n",
       "0  Изменение статуса сообщения   \n",
       "1  Изменение статуса сообщения   \n",
       "2                        Ответ   \n",
       "3  Изменение статуса сообщения   \n",
       "4  Изменение статуса сообщения   \n",
       "5       Сообщение пользователя   \n",
       "\n",
       "                                                body  \n",
       "0                                                NaN  \n",
       "1                                                NaN  \n",
       "2  Уважаемый пользователь!\\r\\n\\r\\nРассмотрев Ваше...  \n",
       "3                                                NaN  \n",
       "4                                                NaN  \n",
       "5                   Маленькмй лифт изрисован внутри.  "
      ]
     },
     "execution_count": 46,
     "metadata": {},
     "output_type": "execute_result"
    }
   ],
   "source": [
    "file = all_file[0]\n",
    "dict_df = {\"district_name\":[], \"dt\":[],\"status_name\":[],\"title\":[],\"body\":[]}\n",
    "with codecs.open(file, 'r', \"utf_8\") as f:\n",
    "    file_json = json.load(f)\n",
    "    for i in file_json[\"feed\"]:\n",
    "        dict_df[\"district_name\"].append(file_json[\"district_name\"])\n",
    "        dict_df[\"dt\"].append(i[\"payload\"][\"dt\"])\n",
    "        dict_df[\"status_name\"].append(i[\"payload\"][\"status_name\"])\n",
    "        dict_df[\"title\"].append(i[\"meta\"][\"title\"])\n",
    "        try :\n",
    "            try:\n",
    "                dict_df[\"body\"].append(i[\"payload\"][\"body\"][0][\"text\"])\n",
    "            except:\n",
    "                dict_df[\"body\"].append(i[\"payload\"][\"body\"])\n",
    "        except:\n",
    "            dict_df[\"body\"].append(np.nan)\n",
    "df = pd.DataFrame(dict_df)\n",
    "df"
   ]
  },
  {
   "cell_type": "code",
   "execution_count": null,
   "id": "91be8721",
   "metadata": {},
   "outputs": [],
   "source": []
  }
 ],
 "metadata": {
  "kernelspec": {
   "display_name": "Python 3 (ipykernel)",
   "language": "python",
   "name": "python3"
  },
  "language_info": {
   "codemirror_mode": {
    "name": "ipython",
    "version": 3
   },
   "file_extension": ".py",
   "mimetype": "text/x-python",
   "name": "python",
   "nbconvert_exporter": "python",
   "pygments_lexer": "ipython3",
   "version": "3.10.10"
  }
 },
 "nbformat": 4,
 "nbformat_minor": 5
}
